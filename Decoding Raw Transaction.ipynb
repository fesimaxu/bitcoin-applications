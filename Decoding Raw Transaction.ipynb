{
 "cells": [
  {
   "cell_type": "code",
   "execution_count": 1,
   "id": "11353b5c",
   "metadata": {},
   "outputs": [],
   "source": [
    "path_to_bitcoin_functional_test = \"/Users/decagon/bitcoin/test/functional\"\n",
    "path_to_bitcoin_tx_tutorial = \"/Users/decagon/bitcoin-tx-tutorial\""
   ]
  },
  {
   "cell_type": "code",
   "execution_count": 2,
   "id": "e2219bdb",
   "metadata": {},
   "outputs": [],
   "source": [
    "import sys\n",
    "\n",
    "# Add the functional test framework to our PATH\n",
    "sys.path.insert(0, path_to_bitcoin_functional_test)\n",
    "from test_framework.test_shell import TestShell\n",
    "\n",
    "# Add the bitcoin-tx-tutorial functions to our PATH\n",
    "sys.path.insert(0, path_to_bitcoin_tx_tutorial)\n",
    "from functions import *\n",
    "\n",
    "import json"
   ]
  },
  {
   "cell_type": "code",
   "execution_count": 3,
   "id": "31152506",
   "metadata": {},
   "outputs": [
    {
     "name": "stdout",
     "output_type": "stream",
     "text": [
      "2024-02-04T09:26:07.905000Z TestFramework (INFO): PRNG seed is: 8984478601586845148\n",
      "2024-02-04T09:26:07.911000Z TestFramework (INFO): Initializing test directory /var/folders/nk/_jb0h4ms0pn9hkrd6gbljvr00000gp/T/bitcoin_func_test__35nb669\n"
     ]
    }
   ],
   "source": [
    "# Setup our regtest environment\n",
    "test = TestShell().setup(\n",
    "    num_nodes=1, \n",
    "    setup_clean_chain=True\n",
    ")\n",
    "\n",
    "node = test.nodes[0]"
   ]
  },
  {
   "cell_type": "code",
   "execution_count": 4,
   "id": "70dfc298",
   "metadata": {},
   "outputs": [],
   "source": [
    "raw_tx = \"020000000001010ccc140e766b5dbc884ea2d780c5e91e4eb77597ae64288a42575228b79e234900000000000000000002bd37060000000000225120245091249f4f29d30820e5f36e1e5d477dc3386144220bd6f35839e94de4b9cae81c00000000000016001416d31d7632aa17b3b316b813c0a3177f5b6150200140838a1f0f1ee607b54abf0a3f55792f6f8d09c3eb7a9fa46cd4976f2137ca2e3f4a901e314e1b827c3332d7e1865ffe1d7ff5f5d7576a9000f354487a09de44cd00000000\""
   ]
  },
  {
   "cell_type": "code",
   "execution_count": 5,
   "id": "bc13c08c",
   "metadata": {},
   "outputs": [
    {
     "name": "stdout",
     "output_type": "stream",
     "text": [
      "{\n",
      "  \"txid\": \"6d9da35544e87a88279c5bfc66e08a873f3d456b4d6112620e2c41555863f920\",\n",
      "  \"hash\": \"12cf25913f2d497ee1fa48a9cba46ecf3402154af5e24a70f27f8d19d1b06e40\",\n",
      "  \"version\": 2,\n",
      "  \"size\": 193,\n",
      "  \"vsize\": 142,\n",
      "  \"weight\": 568,\n",
      "  \"locktime\": 0,\n",
      "  \"vin\": [\n",
      "    {\n",
      "      \"txid\": \"49239eb7285257428a2864ae9775b74e1ee9c580d7a24e88bc5d6b760e14cc0c\",\n",
      "      \"vout\": 0,\n",
      "      \"scriptSig\": {\n",
      "        \"asm\": \"\",\n",
      "        \"hex\": \"\"\n",
      "      },\n",
      "      \"txinwitness\": [\n",
      "        \"838a1f0f1ee607b54abf0a3f55792f6f8d09c3eb7a9fa46cd4976f2137ca2e3f4a901e314e1b827c3332d7e1865ffe1d7ff5f5d7576a9000f354487a09de44cd\"\n",
      "      ],\n",
      "      \"sequence\": 0\n",
      "    }\n",
      "  ],\n",
      "  \"vout\": [\n",
      "    {\n",
      "      \"value\": \"0.00407485\",\n",
      "      \"n\": 0,\n",
      "      \"scriptPubKey\": {\n",
      "        \"asm\": \"1 245091249f4f29d30820e5f36e1e5d477dc3386144220bd6f35839e94de4b9ca\",\n",
      "        \"desc\": \"rawtr(245091249f4f29d30820e5f36e1e5d477dc3386144220bd6f35839e94de4b9ca)#ydq2j8sz\",\n",
      "        \"hex\": \"5120245091249f4f29d30820e5f36e1e5d477dc3386144220bd6f35839e94de4b9ca\",\n",
      "        \"address\": \"bcrt1py3gfzfylfu5axzpquheku8jaga7uxwrpgs3qh4hntqu7jn0yh89q6u5wwx\",\n",
      "        \"type\": \"witness_v1_taproot\"\n",
      "      }\n",
      "    },\n",
      "    {\n",
      "      \"value\": \"0.00007400\",\n",
      "      \"n\": 1,\n",
      "      \"scriptPubKey\": {\n",
      "        \"asm\": \"0 16d31d7632aa17b3b316b813c0a3177f5b615020\",\n",
      "        \"desc\": \"addr(bcrt1qzmf36a3j4gtm8vckhqfupgch0adkz5pqf2kt3x)#vmh4m39h\",\n",
      "        \"hex\": \"001416d31d7632aa17b3b316b813c0a3177f5b615020\",\n",
      "        \"address\": \"bcrt1qzmf36a3j4gtm8vckhqfupgch0adkz5pqf2kt3x\",\n",
      "        \"type\": \"witness_v0_keyhash\"\n",
      "      }\n",
      "    }\n",
      "  ]\n",
      "}\n"
     ]
    }
   ],
   "source": [
    "decoded = node.decoderawtransaction(raw_tx)\n",
    "print(json.dumps(decoded, indent=2, default=str))"
   ]
  },
  {
   "cell_type": "code",
   "execution_count": null,
   "id": "5b8e6979",
   "metadata": {},
   "outputs": [],
   "source": []
  }
 ],
 "metadata": {
  "kernelspec": {
   "display_name": "Python 3 (ipykernel)",
   "language": "python",
   "name": "python3"
  },
  "language_info": {
   "codemirror_mode": {
    "name": "ipython",
    "version": 3
   },
   "file_extension": ".py",
   "mimetype": "text/x-python",
   "name": "python",
   "nbconvert_exporter": "python",
   "pygments_lexer": "ipython3",
   "version": "3.9.6"
  }
 },
 "nbformat": 4,
 "nbformat_minor": 5
}
